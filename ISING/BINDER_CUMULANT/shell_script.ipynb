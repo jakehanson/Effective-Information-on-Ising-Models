{
 "cells": [
  {
   "cell_type": "markdown",
   "metadata": {},
   "source": [
    "## Bash script to run sim many times"
   ]
  },
  {
   "cell_type": "code",
   "execution_count": null,
   "metadata": {},
   "outputs": [],
   "source": [
    "%%bash\n",
    "\n",
    "g++ -std=c++11 -O3 main.cpp functions.cpp -o run_sim.exe\n",
    "\n",
    "#rm results.txt\n",
    "#rm stabalization.txt\n",
    "#rm n32_multi.txt\n",
    "\n",
    "# Loop over lattice sizes\n",
    "#for i in {32,64}\n",
    "#do\n",
    "# Loop over temperature near critical temp\n",
    "#for j in {1.0,1.25,1.5,1.75,2.0,2.25,2.5,2.75,3.0,3.25,3.5}\n",
    "#for j in {1.8,1.9,2.0,2.1,2.2,2.3,2.4,2.5,2.6,2.7,2.8}\n",
    "#for j in {1.8,2.0,2.2,2.4,2.6,2.8}\n",
    "for j in {2.1,2.2,2.3,2.4}\n",
    "do\n",
    "#./run_sim.exe $i $j 1e8 1 >> results.txt\n",
    "./run_sim.exe 64 $j 2e8 1e8 10 >> n64_extra_long.txt\n",
    "#done\n",
    "done\n",
    "\n",
    "echo \"Done.\""
   ]
  },
  {
   "cell_type": "code",
   "execution_count": null,
   "metadata": {
    "collapsed": true
   },
   "outputs": [],
   "source": []
  }
 ],
 "metadata": {
  "kernelspec": {
   "display_name": "Python 2",
   "language": "python",
   "name": "python2"
  },
  "language_info": {
   "codemirror_mode": {
    "name": "ipython",
    "version": 2
   },
   "file_extension": ".py",
   "mimetype": "text/x-python",
   "name": "python",
   "nbconvert_exporter": "python",
   "pygments_lexer": "ipython2",
   "version": "2.7.13"
  }
 },
 "nbformat": 4,
 "nbformat_minor": 1
}
