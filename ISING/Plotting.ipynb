{
 "cells": [
  {
   "cell_type": "markdown",
   "metadata": {},
   "source": [
    "## Notebook to visualize and animate CPP Data"
   ]
  },
  {
   "cell_type": "markdown",
   "metadata": {},
   "source": [
    "#### First we have a cell to visualize the statespace"
   ]
  },
  {
   "cell_type": "code",
   "execution_count": 1,
   "metadata": {},
   "outputs": [
    {
     "name": "stderr",
     "output_type": "stream",
     "text": [
      "/usr/local/lib/python2.7/site-packages/matplotlib/axes/_base.py:2787: UserWarning: Attempting to set identical left==right results\n",
      "in singular transformations; automatically expanding.\n",
      "left=0, right=0\n",
      "  'left=%s, right=%s') % (left, right))\n"
     ]
    },
    {
     "data": {
      "image/png": "[encoded data removed]",
      "text/plain": [
       "<matplotlib.figure.Figure at 0x109520410>"
      ]
     },
     "metadata": {},
     "output_type": "display_data"
    }
   ],
   "source": [
    "import numpy as np\n",
    "import pandas as pd\n",
    "import matplotlib.pyplot as plt\n",
    "import seaborn as sns\n",
    "import copy\n",
    "%matplotlib inline\n",
    "\n",
    "states_file = '/Users/jakehanson/Desktop/Causality_Ising/states.txt'\n",
    "params_file = '/Users/jakehanson/Desktop/Causality_Ising/params.txt'\n",
    "\n",
    "states = pd.read_table(states_file,header=None)\n",
    "params = pd.read_table(params_file)\n",
    "\n",
    "T = params['Temperature'][0]\n",
    "N = params['Trials'][0]\n",
    "n_cols = params['n_cols'][0]\n",
    "\n",
    "hist = dict.fromkeys(np.unique(states),0)\n",
    "for each in states.values:\n",
    "    hist[int(each)] = hist[int(each)]+1\n",
    "for each in hist.keys():\n",
    "    hist[each] = float(hist[each])/N\n",
    "\n",
    "plt.bar(hist.keys(),hist.values(),width=1)\n",
    "plt.title(r'3x3 Distribution of States T >> T$_c$'.format(T))\n",
    "plt.ylabel('Probability')\n",
    "plt.xlabel('State')\n",
    "plt.xlim((0,2**(n_cols*n_cols)))\n",
    "#plt.savefig('/Users/jakehanson/Desktop/Small_RealHot_Ising_longtrial.pdf')\n",
    "plt.show()"
   ]
  },
  {
   "cell_type": "markdown",
   "metadata": {},
   "source": [
    "#### Now lets visualize the spin matrix"
   ]
  },
  {
   "cell_type": "code",
   "execution_count": null,
   "metadata": {},
   "outputs": [],
   "source": [
    "# Define function to output plots\n",
    "def make_pdf(X,frame_count,T):\n",
    "    X_image = copy.copy(X)  # Immutable copy of X\n",
    "    fname = ('_%06d.pdf' % (frame_count))  # assign filename\n",
    "    plt.imshow(X, cmap='Greys',  interpolation='nearest',vmin=-1,vmax=1)\n",
    "    plt.xticks([]); plt.yticks([]);\n",
    "    plt.title(r'T [k$_b$] = ' + str(T))\n",
    "    plt.savefig('/Users/jakehanson/Desktop/Ising_plots/plot' + fname)\n",
    "    plt.cla()\n",
    "    \n",
    "spin_file = '/Users/jakehanson/Desktop/Causality_Ising/time_series.txt'\n",
    "spins = pd.read_table(spin_file,header=None)\n",
    "spins\n",
    "\n",
    "frame_count = 0\n",
    "for trial in spins.index:\n",
    "    matrix = np.zeros((3,3))\n",
    "    value = 0\n",
    "    for i in range(3):\n",
    "        for j in range(3):\n",
    "            matrix[i][j] = spins.iloc[trial][value]\n",
    "            value = value+1\n",
    "    make_pdf(matrix,frame_count,T)\n",
    "    frame_count = frame_count+1\n",
    "    \n",
    "print 'Done'"
   ]
  },
  {
   "cell_type": "code",
   "execution_count": 10,
   "metadata": {},
   "outputs": [],
   "source": [
    "from ipywidgets import Image\n",
    "from IPython import display\n",
    "animatedGif = '/Users/jakehanson/Desktop/Ising_Plots/sim.gif' #path relative to your notebook\n",
    "file = open(animatedGif , \"rb\")\n",
    "image = file.read()\n",
    "progress= Image(value=image,format='gif',width=350,height=250)\n",
    "display.display(progress)"
   ]
  },
  {
   "cell_type": "code",
   "execution_count": null,
   "metadata": {
    "collapsed": true
   },
   "outputs": [],
   "source": []
  }
 ],
 "metadata": {
  "kernelspec": {
   "display_name": "Python 2",
   "language": "python",
   "name": "python2"
  },
  "language_info": {
   "codemirror_mode": {
    "name": "ipython",
    "version": 2
   },
   "file_extension": ".py",
   "mimetype": "text/x-python",
   "name": "python",
   "nbconvert_exporter": "python",
   "pygments_lexer": "ipython2",
   "version": "2.7.13"
  }
 },
 "nbformat": 4,
 "nbformat_minor": 1
}
