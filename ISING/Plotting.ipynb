{
 "cells": [
  {
   "cell_type": "markdown",
   "metadata": {},
   "source": [
    "## Notebook to visualize and animate ISING Data"
   ]
  },
  {
   "cell_type": "markdown",
   "metadata": {},
   "source": [
    "#### First we visualize the statespace"
   ]
  },
  {
   "cell_type": "code",
   "execution_count": null,
   "metadata": {},
   "outputs": [],
   "source": [
    "import numpy as np\n",
    "import pandas as pd\n",
    "import matplotlib.pyplot as plt\n",
    "import seaborn as sns\n",
    "import copy\n",
    "%matplotlib inline\n",
    "\n",
    "states_file = 'states.txt'\n",
    "params_file = 'params.txt'\n",
    "\n",
    "states = pd.read_table(states_file,header=None)\n",
    "params = pd.read_table(params_file,sep='\\t')\n",
    "\n",
    "# Get params\n",
    "T = params['Temperature'][0]\n",
    "n_cols = params['n_cols'][0]\n",
    "N = params['Steps'][0]*params['Sims'][0]\n",
    "\n",
    "# Create dict to count number of times a state is visited\n",
    "hist = dict.fromkeys(np.unique(states),0)\n",
    "\n",
    "# Tick each state\n",
    "for each in states.values:\n",
    "    hist[each[0]] = hist[each[0]]+1\n",
    "\n",
    "# Normalize\n",
    "for each in hist.keys():\n",
    "    hist[each] = float(hist[each])/float(N)\n",
    "\n",
    "plt.bar(hist.keys(),hist.values(),width=1.5)\n",
    "plt.title(r'{:2d} x{:2d} Distribution of States T = {:4.3f}'.format(n_cols,n_cols,T))\n",
    "plt.ylabel('Probability')\n",
    "plt.xlabel('State')\n",
    "plt.xlim((0,2.**(n_cols*n_cols)))\n",
    "plt.savefig(str(n_cols)+'x'+str(n_cols)+'_dist_of_states_{:4.3}.pdf'.format(T))\n",
    "plt.show()"
   ]
  },
  {
   "cell_type": "markdown",
   "metadata": {},
   "source": [
    "#### Next we visualize the spin matrix"
   ]
  },
  {
   "cell_type": "code",
   "execution_count": null,
   "metadata": {
    "collapsed": true
   },
   "outputs": [],
   "source": [
    "# Define function to output plots\n",
    "def make_pdf(X,frame_count,T):\n",
    "    X_image = copy.copy(X)  # Immutable copy of X\n",
    "    fname = ('_%06d.pdf' % (frame_count))  # assign filename\n",
    "    plt.imshow(X, cmap='Greys',  interpolation='nearest',vmin=-1,vmax=1)\n",
    "    plt.xticks([]); plt.yticks([]);\n",
    "    plt.title(r'T [k$_b$] = ' + str(T))\n",
    "    plt.savefig('Ising_plots/plot' + fname)\n",
    "    plt.cla()\n",
    "    \n",
    "spin_file = 'time_series.txt'\n",
    "spins = pd.read_table(spin_file,header=None)\n",
    "spins\n",
    "\n",
    "frame_count = 0\n",
    "for trial in spins.index:\n",
    "    matrix = np.zeros((n_cols,n_cols))\n",
    "    value = 0\n",
    "    for i in range(n_cols):\n",
    "        for j in range(n_cols):\n",
    "            matrix[i][j] = spins.iloc[trial][value]\n",
    "            value = value+1\n",
    "    make_pdf(matrix,frame_count,T)\n",
    "    frame_count = frame_count+1\n",
    "    \n",
    "print 'Done'"
   ]
  },
  {
   "cell_type": "code",
   "execution_count": 10,
   "metadata": {
    "collapsed": true
   },
   "outputs": [],
   "source": [
    "from ipywidgets import Image\n",
    "from IPython import display\n",
    "animatedGif = 'sim.gif' #path relative to your notebook\n",
    "file = open(animatedGif , \"rb\")\n",
    "image = file.read()\n",
    "progress= Image(value=image,format='gif',width=350,height=250)\n",
    "display.display(progress)"
   ]
  },
  {
   "cell_type": "code",
   "execution_count": null,
   "metadata": {
    "collapsed": true
   },
   "outputs": [],
   "source": []
  }
 ],
 "metadata": {
  "kernelspec": {
   "display_name": "Python 2",
   "language": "python",
   "name": "python2"
  },
  "language_info": {
   "codemirror_mode": {
    "name": "ipython",
    "version": 2
   },
   "file_extension": ".py",
   "mimetype": "text/x-python",
   "name": "python",
   "nbconvert_exporter": "python",
   "pygments_lexer": "ipython2",
   "version": "2.7.13"
  }
 },
 "nbformat": 4,
 "nbformat_minor": 1
}
