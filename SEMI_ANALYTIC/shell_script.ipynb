{
 "cells": [
  {
   "cell_type": "markdown",
   "metadata": {},
   "source": [
    "## Bash script to run sim many times"
   ]
  },
  {
   "cell_type": "code",
   "execution_count": null,
   "metadata": {},
   "outputs": [],
   "source": [
    "%%bash\n",
    "\n",
    "g++ -std=c++11 main.cpp functions.cpp EI.cpp -o run_sim.exe\n",
    "\n",
    "# Delete any existing data\n",
    "if [ -f EI_file.txt ]; then\n",
    "    rm EI_file.txt\n",
    "    echo \"Deleted old EI data\"\n",
    "fi\n",
    "\n",
    "if [ -f TPM_file.txt ]; then\n",
    "    rm TPM_file.txt\n",
    "    echo \"Deleted old TPM data\"\n",
    "fi\n",
    "\n",
    "echo \"Generating new data...\"\n",
    "for i in {1,3,10,32,100,316,1000,3162,10000,31623,100000,316228,1000000,3162278,10000000} ## Temperature array in units of T_c/100\n",
    "do\n",
    "echo $i\n",
    "./run_sim.exe $i\n",
    "mv EI_file.txt EI_DATA/ANALYTIC_EI_3x3_$i.txt\n",
    "mv TPM_file.txt TPM_DATA/ANALYTIC_TPM_3x3_$i.txt\n",
    "done\n",
    "\n",
    "echo \"Done.\""
   ]
  },
  {
   "cell_type": "code",
   "execution_count": null,
   "metadata": {
    "collapsed": true
   },
   "outputs": [],
   "source": []
  }
 ],
 "metadata": {
  "kernelspec": {
   "display_name": "Python 2",
   "language": "python",
   "name": "python2"
  },
  "language_info": {
   "codemirror_mode": {
    "name": "ipython",
    "version": 2
   },
   "file_extension": ".py",
   "mimetype": "text/x-python",
   "name": "python",
   "nbconvert_exporter": "python",
   "pygments_lexer": "ipython2",
   "version": "2.7.13"
  }
 },
 "nbformat": 4,
 "nbformat_minor": 1
}
