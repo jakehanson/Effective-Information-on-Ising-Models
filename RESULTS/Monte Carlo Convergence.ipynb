{
 "cells": [
  {
   "cell_type": "markdown",
   "metadata": {},
   "source": [
    "## Notebook to check whether TPMs are identical for monte carlo generating method and semi-analytical generating method"
   ]
  },
  {
   "cell_type": "code",
   "execution_count": 13,
   "metadata": {},
   "outputs": [
    {
     "name": "stdout",
     "output_type": "stream",
     "text": [
      "MC TRANSITIONS OUT OF STATE 0:\n",
      "\t0 to  0 :  0.295921\n",
      "\t0 to  1 :  0.0779683\n",
      "\t0 to  2 :  0.0787563\n",
      "\t0 to  4 :  0.0773713\n",
      "\t0 to  8 :  0.079425\n",
      "\t0 to  16 :  0.0796638\n",
      "\t0 to  32 :  0.0783981\n",
      "\t0 to  64 :  0.0786369\n",
      "\t0 to  128 :  0.0758191\n",
      "\t0 to  256 :  0.0780399\n",
      "ANALYTIC TRANSITIONS OUT OF STATE 0:\n",
      "\t0 to  0 :  0.297106\n",
      "\t0 to  1 :  0.0780993\n",
      "\t0 to  2 :  0.0780993\n",
      "\t0 to  4 :  0.0780993\n",
      "\t0 to  8 :  0.0780993\n",
      "\t0 to  16 :  0.0780993\n",
      "\t0 to  32 :  0.0780993\n",
      "\t0 to  64 :  0.0780993\n",
      "\t0 to  128 :  0.0780993\n",
      "\t0 to  256 :  0.0780993\n",
      "AVG ERROR PER TRANSITION =  3.3160427475e-05\n"
     ]
    }
   ],
   "source": [
    "import numpy as np\n",
    "import pandas as pd\n",
    "import matplotlib.pyplot as plt\n",
    "import seaborn as sns\n",
    "%matplotlib inline\n",
    "\n",
    "ANALYTIC_TPM = pd.read_table('../SEMI_ANALYTIC/TPM_file.txt',sep='\\t',skiprows=[0,1,2,3],header=None)\n",
    "MC_TPM = pd.read_table('../MONTE_CARLO/TPM_file.txt',sep='\\t',skiprows=[0,1,2,3],header=None)\n",
    "\n",
    "# Transpose so we can call them like TPM[row][col] even though it is really calling TPM^T[col][row]\n",
    "ANALYTIC_TPM = pd.DataFrame.transpose(ANALYTIC_TPM)\n",
    "MC_TPM = pd.DataFrame.transpose(MC_TPM)\n",
    "\n",
    "print 'MC TRANSITIONS OUT OF STATE 0:'\n",
    "for i in range(512):\n",
    "    if MC_TPM[0][i] != 0:\n",
    "        print '\\t0 to ',i,': ',MC_TPM[0][i]   \n",
    "        \n",
    "print 'ANALYTIC TRANSITIONS OUT OF STATE 0:'\n",
    "total = 0.\n",
    "for i in range(512):\n",
    "    if ANALYTIC_TPM[0][i] != 0:\n",
    "        print '\\t0 to ',i,': ',ANALYTIC_TPM[0][i] \n",
    "        total = total+ANALYTIC_TPM[0][i]  # TRANSPOSE\n",
    "\n",
    "error = 0.\n",
    "for i in range(512):\n",
    "    for j in range(512):\n",
    "        error = error + np.sqrt((MC_TPM[i][j]-ANALYTIC_TPM[i][j])**2)\n",
    "        \n",
    "print 'AVG ERROR PER TRANSITION = ',error/(512**2)"
   ]
  },
  {
   "cell_type": "markdown",
   "metadata": {},
   "source": [
    "## TPM's and EI match! This is good."
   ]
  },
  {
   "cell_type": "code",
   "execution_count": null,
   "metadata": {
    "collapsed": true
   },
   "outputs": [],
   "source": []
  }
 ],
 "metadata": {
  "kernelspec": {
   "display_name": "Python 2",
   "language": "python",
   "name": "python2"
  },
  "language_info": {
   "codemirror_mode": {
    "name": "ipython",
    "version": 2
   },
   "file_extension": ".py",
   "mimetype": "text/x-python",
   "name": "python",
   "nbconvert_exporter": "python",
   "pygments_lexer": "ipython2",
   "version": "2.7.13"
  }
 },
 "nbformat": 4,
 "nbformat_minor": 2
}
