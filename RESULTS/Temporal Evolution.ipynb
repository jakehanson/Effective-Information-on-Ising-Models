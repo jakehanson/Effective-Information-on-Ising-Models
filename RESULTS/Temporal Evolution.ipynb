{
 "cells": [
  {
   "cell_type": "markdown",
   "metadata": {},
   "source": [
    "# Notebook to calculate EI as a function of timestep, where timestep represents the probability of ending in state j after t steps given that you start in state i"
   ]
  },
  {
   "cell_type": "code",
   "execution_count": 1,
   "metadata": {},
   "outputs": [
    {
     "name": "stdout",
     "output_type": "stream",
     "text": [
      "Temperature =  1\n",
      "Temperature =  100\n",
      "Temperature =  10000\n"
     ]
    },
    {
     "data": {
      "image/png": "[encoded data removed]",
      "text/plain": [
       "<matplotlib.figure.Figure at 0x10ee17150>"
      ]
     },
     "metadata": {},
     "output_type": "display_data"
    }
   ],
   "source": [
    "import pandas as pd\n",
    "import numpy as np\n",
    "import matplotlib.pyplot as plt\n",
    "import seaborn as sns\n",
    "%matplotlib inline\n",
    "\n",
    "temp_array = [1,100,10000]\n",
    "time_array = np.linspace(1,80,40)\n",
    "\n",
    "for T in temp_array:\n",
    "    \n",
    "    print \"Temperature = \", T\n",
    "    \n",
    "    TPM_file = '../TPM_DATA/ANALYTIC_TPM_3x3_'+str(T)+'.txt' # 0.01T_c data\n",
    "    ORIGINAL_TPM =  pd.read_table(TPM_file,sep='\\t',skiprows=[0,1,2,3],header=None)\n",
    "    N_states = np.shape(ORIGINAL_TPM)[0]\n",
    "    \n",
    "    EI_array = []\n",
    "    for time in time_array:\n",
    "\n",
    "        TPM = np.linalg.matrix_power(ORIGINAL_TPM,int(time)) # raise TPM to the power of time\n",
    "\n",
    "        # Calculate ED\n",
    "        ED = np.zeros(N_states)\n",
    "        for i in range(N_states):\n",
    "            for j in range(N_states):\n",
    "                ED[i] = ED[i] + TPM[j][i]/np.double(N_states)  # ED for uniform dist\n",
    "\n",
    "        # Calculate EI\n",
    "        EI = 0\n",
    "        for i in range(N_states):\n",
    "            for j in range(N_states):\n",
    "                if(TPM[i][j] > 0.):\n",
    "                    EI = EI + TPM[i][j]*np.log2(TPM[i][j]/ED[j])/N_states\n",
    "\n",
    "#         print 'Timestep = ',time\n",
    "#         print '\\tEI = ',EI\n",
    "        EI_array.append(EI)\n",
    "        \n",
    "    plt.plot(time_array,EI_array,alpha=0.7,label=r'T = '+str(T/100.)+'T$_c$')\n",
    "    \n",
    "plt.title('Temporal Evolution of EI -- 3x3 Lattice')\n",
    "plt.xlabel('Timestep')\n",
    "plt.ylabel('Effective Information (EI)')\n",
    "plt.legend()\n",
    "plt.savefig('/Users/jakehanson/Desktop/temporal_evolution.pdf')\n",
    "plt.show()\n",
    "    \n",
    "# print TPM"
   ]
  },
  {
   "cell_type": "markdown",
   "metadata": {},
   "source": [
    "## Effective information drops quickly with time in the Ising Model. This is due to drastic loss in predictive power over where you came from and where you are headed at each timestep"
   ]
  },
  {
   "cell_type": "markdown",
   "metadata": {},
   "source": [
    "## TROUBLESHOOTING NOTES\n",
    "- In theory, I would expect the TPM to converge to the lowest energy state as time goes to infinity. This would mean that EI should go to zero, unless, of course, I am misunderstanding something\n",
    "#### Misunderstanding was that there are two low energy states and each is equally likely on average. However, the distribution of futures splits probabilities between these two end states according to energetic distance.\n",
    "\n",
    "- So far, it looks like transposing the TPM was not the correct thing to do for these calculations. It messed up the inbound and outbound transition probabilities\n",
    "#### Definitely true. The indexing also switched back for np.matrix() so that it is [row][col] \n",
    "\n",
    "- Also, there seems to be a weird problem using np.linalg.matrix_power(TPM,1) which gives different a different value for EI than just using the TPM despite having identical elements.. not sure what is wrong here\n",
    "#### This was due to [col][row] becoming [row][col] for matrix. This messed up ED and EI calculations\n"
   ]
  },
  {
   "cell_type": "code",
   "execution_count": null,
   "metadata": {
    "collapsed": true
   },
   "outputs": [],
   "source": []
  }
 ],
 "metadata": {
  "kernelspec": {
   "display_name": "Python 2",
   "language": "python",
   "name": "python2"
  },
  "language_info": {
   "codemirror_mode": {
    "name": "ipython",
    "version": 2
   },
   "file_extension": ".py",
   "mimetype": "text/x-python",
   "name": "python",
   "nbconvert_exporter": "python",
   "pygments_lexer": "ipython2",
   "version": "2.7.13"
  }
 },
 "nbformat": 4,
 "nbformat_minor": 2
}
